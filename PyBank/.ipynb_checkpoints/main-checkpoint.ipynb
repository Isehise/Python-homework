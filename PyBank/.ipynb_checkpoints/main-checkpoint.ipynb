{
 "cells": [
  {
   "cell_type": "code",
   "execution_count": 112,
   "id": "019cc1d1-0798-4367-b237-df2dc7f170fa",
   "metadata": {},
   "outputs": [],
   "source": [
    "from csv import reader\n",
    "\n",
    "with open('budget_data.csv', 'r') as read_obj: #Open excel file with csv reader\n",
    "    csv_reader = reader(read_obj)\n",
    "    next(csv_reader, None) #skip header role\n",
    "    pyBank_Budget = list(csv_reader)\n",
    "\n",
    "    "
   ]
  },
  {
   "cell_type": "code",
   "execution_count": 113,
   "id": "7759674b-e71f-4500-b123-ba3c8c1d4473",
   "metadata": {},
   "outputs": [
    {
     "name": "stdout",
     "output_type": "stream",
     "text": [
      "[['Jan-2010', '867884'], ['Feb-2010', '984655'], ['Mar-2010', '322013'], ['Apr-2010', '-69417'], ['May-2010', '310503'], ['Jun-2010', '522857'], ['Jul-2010', '1033096'], ['Aug-2010', '604885'], ['Sep-2010', '-216386'], ['Oct-2010', '477532'], ['Nov-2010', '893810'], ['Dec-2010', '-80353'], ['Jan-2011', '779806'], ['Feb-2011', '-335203'], ['Mar-2011', '697845'], ['Apr-2011', '793163'], ['May-2011', '485070'], ['Jun-2011', '584122'], ['Jul-2011', '62729'], ['Aug-2011', '668179'], ['Sep-2011', '899906'], ['Oct-2011', '834719'], ['Nov-2011', '132003'], ['Dec-2011', '309978'], ['Jan-2012', '-755566'], ['Feb-2012', '1170593'], ['Mar-2012', '252788'], ['Apr-2012', '1151518'], ['May-2012', '817256'], ['Jun-2012', '570757'], ['Jul-2012', '506702'], ['Aug-2012', '-1022534'], ['Sep-2012', '475062'], ['Oct-2012', '779976'], ['Nov-2012', '144175'], ['Dec-2012', '542494'], ['Jan-2013', '359333'], ['Feb-2013', '321469'], ['Mar-2013', '67780'], ['Apr-2013', '471435'], ['May-2013', '565603'], ['Jun-2013', '872480'], ['Jul-2013', '789480'], ['Aug-2013', '999942'], ['Sep-2013', '-1196225'], ['Oct-2013', '268997'], ['Nov-2013', '-687986'], ['Dec-2013', '1150461'], ['Jan-2014', '682458'], ['Feb-2014', '617856'], ['Mar-2014', '824098'], ['Apr-2014', '581943'], ['May-2014', '132864'], ['Jun-2014', '448062'], ['Jul-2014', '689161'], ['Aug-2014', '800701'], ['Sep-2014', '1166643'], ['Oct-2014', '947333'], ['Nov-2014', '578668'], ['Dec-2014', '988505'], ['Jan-2015', '1139715'], ['Feb-2015', '1029471'], ['Mar-2015', '687533'], ['Apr-2015', '-524626'], ['May-2015', '158620'], ['Jun-2015', '87795'], ['Jul-2015', '423389'], ['Aug-2015', '840723'], ['Sep-2015', '568529'], ['Oct-2015', '332067'], ['Nov-2015', '989499'], ['Dec-2015', '778237'], ['Jan-2016', '650000'], ['Feb-2016', '-1100387'], ['Mar-2016', '-174946'], ['Apr-2016', '757143'], ['May-2016', '445709'], ['Jun-2016', '712961'], ['Jul-2016', '-1163797'], ['Aug-2016', '569899'], ['Sep-2016', '768450'], ['Oct-2016', '102685'], ['Nov-2016', '795914'], ['Dec-2016', '60988'], ['Jan-2017', '138230'], ['Feb-2017', '671099']]\n"
     ]
    }
   ],
   "source": [
    "# PyBudget for analysis\n",
    "print(pyBank_Budget)"
   ]
  },
  {
   "cell_type": "code",
   "execution_count": 114,
   "id": "22808015-d3dd-49b0-a471-b2e2dde5722d",
   "metadata": {},
   "outputs": [],
   "source": [
    "Number_months = 0\n",
    "\n",
    "profit = 0\n",
    "\n",
    "average_change = 0\n",
    "\n",
    "month_change = 0\n",
    "\n",
    "greatestIncrease = 0\n",
    "\n",
    "greatestDecrease = 0"
   ]
  },
  {
   "cell_type": "code",
   "execution_count": 117,
   "id": "2e6718f6-e9e8-41c7-a992-186e010e8591",
   "metadata": {},
   "outputs": [
    {
     "name": "stdout",
     "output_type": "stream",
     "text": [
      "86\n"
     ]
    }
   ],
   "source": [
    "# questions\n",
    "#The total number of months included in the dataset.\n",
    "#The net total amount of Profit/Losses over the entire period.\n",
    "#The average of the changes in Profit/Losses over the entire period.\n",
    "#The greatest increase in profits (date and amount) over the entire period.\n",
    "#The greatest decrease in losses (date and amount) over the entire period.\n",
    "\n",
    "Number_months = len(pyBank_Budget)\n",
    "print(Number_months)\n",
    "\n"
   ]
  },
  {
   "cell_type": "code",
   "execution_count": 119,
   "id": "4af55890-143b-463c-ab42-26a58c64461e",
   "metadata": {},
   "outputs": [
    {
     "name": "stdout",
     "output_type": "stream",
     "text": [
      "38382578\n"
     ]
    }
   ],
   "source": [
    "#The net total amount of Profit/Losses over the entire period.\n",
    "\n",
    "for key in pyBank_Budget:\n",
    "    profit += int(key[1])\n",
    "print(profit)"
   ]
  },
  {
   "cell_type": "code",
   "execution_count": 142,
   "id": "338fadbc-aa8a-45ce-9150-1809739582c3",
   "metadata": {},
   "outputs": [
    {
     "name": "stdout",
     "output_type": "stream",
     "text": [
      "['Jan-2010', '867884']\n",
      "['Feb-2010', '984655']\n",
      "['Mar-2010', '322013']\n",
      "['Apr-2010', '-69417']\n",
      "['May-2010', '310503']\n",
      "['Jun-2010', '522857']\n",
      "['Jul-2010', '1033096']\n",
      "['Aug-2010', '604885']\n",
      "['Sep-2010', '-216386']\n",
      "['Oct-2010', '477532']\n",
      "['Nov-2010', '893810']\n",
      "['Dec-2010', '-80353']\n",
      "['Jan-2011', '779806']\n",
      "['Feb-2011', '-335203']\n",
      "['Mar-2011', '697845']\n",
      "['Apr-2011', '793163']\n",
      "['May-2011', '485070']\n",
      "['Jun-2011', '584122']\n",
      "['Jul-2011', '62729']\n",
      "['Aug-2011', '668179']\n",
      "['Sep-2011', '899906']\n",
      "['Oct-2011', '834719']\n",
      "['Nov-2011', '132003']\n",
      "['Dec-2011', '309978']\n",
      "['Jan-2012', '-755566']\n",
      "['Feb-2012', '1170593']\n",
      "['Mar-2012', '252788']\n",
      "['Apr-2012', '1151518']\n",
      "['May-2012', '817256']\n",
      "['Jun-2012', '570757']\n",
      "['Jul-2012', '506702']\n",
      "['Aug-2012', '-1022534']\n",
      "['Sep-2012', '475062']\n",
      "['Oct-2012', '779976']\n",
      "['Nov-2012', '144175']\n",
      "['Dec-2012', '542494']\n",
      "['Jan-2013', '359333']\n",
      "['Feb-2013', '321469']\n",
      "['Mar-2013', '67780']\n",
      "['Apr-2013', '471435']\n",
      "['May-2013', '565603']\n",
      "['Jun-2013', '872480']\n",
      "['Jul-2013', '789480']\n",
      "['Aug-2013', '999942']\n",
      "['Sep-2013', '-1196225']\n",
      "['Oct-2013', '268997']\n",
      "['Nov-2013', '-687986']\n",
      "['Dec-2013', '1150461']\n",
      "['Jan-2014', '682458']\n",
      "['Feb-2014', '617856']\n",
      "['Mar-2014', '824098']\n",
      "['Apr-2014', '581943']\n",
      "['May-2014', '132864']\n",
      "['Jun-2014', '448062']\n",
      "['Jul-2014', '689161']\n",
      "['Aug-2014', '800701']\n",
      "['Sep-2014', '1166643']\n",
      "['Oct-2014', '947333']\n",
      "['Nov-2014', '578668']\n",
      "['Dec-2014', '988505']\n",
      "['Jan-2015', '1139715']\n",
      "['Feb-2015', '1029471']\n",
      "['Mar-2015', '687533']\n",
      "['Apr-2015', '-524626']\n",
      "['May-2015', '158620']\n",
      "['Jun-2015', '87795']\n",
      "['Jul-2015', '423389']\n",
      "['Aug-2015', '840723']\n",
      "['Sep-2015', '568529']\n",
      "['Oct-2015', '332067']\n",
      "['Nov-2015', '989499']\n",
      "['Dec-2015', '778237']\n",
      "['Jan-2016', '650000']\n",
      "['Feb-2016', '-1100387']\n",
      "['Mar-2016', '-174946']\n",
      "['Apr-2016', '757143']\n",
      "['May-2016', '445709']\n",
      "['Jun-2016', '712961']\n",
      "['Jul-2016', '-1163797']\n",
      "['Aug-2016', '569899']\n",
      "['Sep-2016', '768450']\n",
      "['Oct-2016', '102685']\n",
      "['Nov-2016', '795914']\n",
      "['Dec-2016', '60988']\n",
      "['Jan-2017', '138230']\n",
      "['Feb-2017', '671099']\n"
     ]
    }
   ],
   "source": [
    "#The average of the changes in Profit/Losses over the entire period.\n",
    "\n",
    "for key in pyBank_Budget:\n",
    "    print(key)\n",
    "                    \n"
   ]
  },
  {
   "cell_type": "code",
   "execution_count": 175,
   "id": "6b4ca88e-4ada-47e0-9cad-b014c3b5a08d",
   "metadata": {},
   "outputs": [
    {
     "name": "stdout",
     "output_type": "stream",
     "text": [
      "1646.3627636560218\n"
     ]
    }
   ],
   "source": [
    "for i in range(1,len(pyBank_Budget)):\n",
    "    #print(int(pyBank_Budget[i][1]) - int(pyBank_Budget[i-1][1]))\n",
    "    change = int(pyBank_Budget[i][1]) - int(pyBank_Budget[i-1][1])\n",
    "    average_change += change\n",
    "print(average_change/Number_months)\n",
    "\n",
    "\n"
   ]
  },
  {
   "cell_type": "code",
   "execution_count": 172,
   "id": "92de3f6a-c5dc-4df2-92bf-0dc29451a4f9",
   "metadata": {},
   "outputs": [
    {
     "name": "stdout",
     "output_type": "stream",
     "text": [
      "1926159\n"
     ]
    }
   ],
   "source": [
    "#The greatest increase in profits (date and amount) over the entire period.\n",
    "\n",
    "max_change = 0\n",
    "for i in range(1,len(pyBank_Budget)):\n",
    "    #print(int(pyBank_Budget[i][1]) - int(pyBank_Budget[i-1][1]))\n",
    "    current_change = int(pyBank_Budget[i][1]) - int(pyBank_Budget[i-1][1])\n",
    "    if current_change > max_change:\n",
    "        max_change = current_change\n",
    "print(max_change)\n",
    "    \n"
   ]
  },
  {
   "cell_type": "code",
   "execution_count": 173,
   "id": "b7acea61-1ed1-44f5-a550-f53e2d21be74",
   "metadata": {},
   "outputs": [
    {
     "name": "stdout",
     "output_type": "stream",
     "text": [
      "-2196167\n"
     ]
    }
   ],
   "source": [
    "min_change = 0\n",
    "for i in range(1,len(pyBank_Budget)):\n",
    "    #print(int(pyBank_Budget[i][1]) - int(pyBank_Budget[i-1][1]))\n",
    "    current_change = int(pyBank_Budget[i][1]) - int(pyBank_Budget[i-1][1])\n",
    "    if current_change < min_change:\n",
    "        min_change = current_change\n",
    "print(min_change)\n",
    "    "
   ]
  },
  {
   "cell_type": "code",
   "execution_count": 176,
   "id": "b86368fc-8256-44fb-b7aa-2f1644bf915c",
   "metadata": {},
   "outputs": [
    {
     "name": "stdout",
     "output_type": "stream",
     "text": [
      "Financial Analysis\n",
      "----------------------\n",
      "Total Months: 86\n",
      "\n",
      "Total Profit/Losess: $38382578\n",
      "\n",
      "Average Change: $1646.36\n",
      "Greatest increase in Profits: 1926159 ($1926159)\n",
      "Greatest decrease in Profits: -2196167 ($-2196167)\n"
     ]
    }
   ],
   "source": [
    "print(\"Financial Analysis\")\n",
    "\n",
    "print(\"----------------------\")\n",
    "\n",
    "print(f\"Total Months: {Number_months}\\n\")\n",
    "\n",
    "print(f\"Total Profit/Losess: ${profit}\\n\")\n",
    "\n",
    "print(f\"Average Change: ${round(average_change/Number_months,2)}\")\n",
    "\n",
    "print(f\"Greatest increase in Profits: {max_change} (${(str(max_change))})\")\n",
    "\n",
    "print(f\"Greatest decrease in Profits: {min_change} (${(str(min_change))})\")\n",
    "\n"
   ]
  },
  {
   "cell_type": "code",
   "execution_count": null,
   "id": "febdb698-817c-4bf6-8a0a-0bef15401c9c",
   "metadata": {},
   "outputs": [],
   "source": []
  }
 ],
 "metadata": {
  "kernelspec": {
   "display_name": "Python 3",
   "language": "python",
   "name": "python3"
  },
  "language_info": {
   "codemirror_mode": {
    "name": "ipython",
    "version": 3
   },
   "file_extension": ".py",
   "mimetype": "text/x-python",
   "name": "python",
   "nbconvert_exporter": "python",
   "pygments_lexer": "ipython3",
   "version": "3.8.8"
  }
 },
 "nbformat": 4,
 "nbformat_minor": 5
}
