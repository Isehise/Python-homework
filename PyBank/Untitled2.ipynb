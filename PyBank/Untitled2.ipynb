{
 "cells": [
  {
   "cell_type": "code",
   "execution_count": null,
   "id": "9b2b54d8-76ea-44a9-8ca4-d7d05e9b9049",
   "metadata": {},
   "outputs": [],
   "source": [
    "average_change = profit - previous_Profit\n",
    "previous_Profit = int(pyBank_Budget[key(1)]) - int(pyBank_Budget[key(0)])\n",
    "print(average_change)\n",
    "\n",
    "pyBank_Budget = {rows[0]:rows[1] for rows in csv_reader}\n",
    "\n",
    "    list_of_rows = list(csv_reader)\n",
    "for i in range(len(list_name))\n"
   ]
  }
 ],
 "metadata": {
  "kernelspec": {
   "display_name": "Python 3",
   "language": "python",
   "name": "python3"
  },
  "language_info": {
   "codemirror_mode": {
    "name": "ipython",
    "version": 3
   },
   "file_extension": ".py",
   "mimetype": "text/x-python",
   "name": "python",
   "nbconvert_exporter": "python",
   "pygments_lexer": "ipython3",
   "version": "3.8.8"
  }
 },
 "nbformat": 4,
 "nbformat_minor": 5
}
